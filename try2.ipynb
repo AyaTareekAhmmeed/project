{
  "nbformat": 4,
  "nbformat_minor": 0,
  "metadata": {
    "colab": {
      "provenance": [],
      "authorship_tag": "ABX9TyNg16d61N1by/AwruvA/1fD",
      "include_colab_link": true
    },
    "kernelspec": {
      "name": "python3",
      "display_name": "Python 3"
    },
    "language_info": {
      "name": "python"
    }
  },
  "cells": [
    {
      "cell_type": "markdown",
      "metadata": {
        "id": "view-in-github",
        "colab_type": "text"
      },
      "source": [
        "<a href=\"https://colab.research.google.com/github/AyaTareekAhmmeed/project/blob/main/try2.ipynb\" target=\"_parent\"><img src=\"https://colab.research.google.com/assets/colab-badge.svg\" alt=\"Open In Colab\"/></a>"
      ]
    },
    {
      "cell_type": "code",
      "execution_count": null,
      "metadata": {
        "id": "R1qTW2SVJ0-H"
      },
      "outputs": [],
      "source": [
        "#importing libraries\n",
        "import numpy as np\n",
        "import pandas as pd\n",
        "import matplotlib.pyplot as plt\n",
        "import seaborn as sns"
      ]
    },
    {
      "cell_type": "code",
      "source": [
        "# load dataset\n",
        "df = pd.read_csv(\"/content/diabetes (1).csv\")"
      ],
      "metadata": {
        "id": "vZUTJFD9KKY1"
      },
      "execution_count": null,
      "outputs": []
    },
    {
      "cell_type": "code",
      "source": [
        "# Identifying outliers with the 1.5xIQR rule\n",
        "Q1 = df['Pregnancies'].quantile(.25)\n",
        "Q3 = df['Pregnancies'].quantile(.75)\n",
        "q1 = Q1-1.5*(Q3-Q1)\n",
        "q3 = Q3+1.5*(Q3-Q1)\n",
        "\n",
        "df = df[df['Pregnancies'].between(q1, q3)]\n",
        "\n",
        "boxplot = df.boxplot(column=['Pregnancies'])"
      ],
      "metadata": {
        "colab": {
          "base_uri": "https://localhost:8080/",
          "height": 265
        },
        "id": "GTd2oktAKO-D",
        "outputId": "3f3b12f5-69e5-409a-e413-9f52c923200d"
      },
      "execution_count": null,
      "outputs": [
        {
          "output_type": "display_data",
          "data": {
            "text/plain": [
              "<Figure size 432x288 with 1 Axes>"
            ],
            "image/png": "[encoded data removed]"
          },
          "metadata": {
            "needs_background": "light"
          }
        }
      ]
    },
    {
      "cell_type": "code",
      "source": [
        "Q1 = df['Glucose'].quantile(.25)\n",
        "Q3 = df['Glucose'].quantile(.75)\n",
        "q1 = Q1-1.5*(Q3-Q1)\n",
        "q3 = Q3+1.5*(Q3-Q1)\n",
        "\n",
        "df = df[df['Glucose'].between(q1, q3)]\n",
        "\n",
        "boxplot = df.boxplot(column=['Glucose'])"
      ],
      "metadata": {
        "colab": {
          "base_uri": "https://localhost:8080/",
          "height": 265
        },
        "id": "PM-p54DJKSaR",
        "outputId": "b7f35239-8173-421f-c9f2-862ce0edfd79"
      },
      "execution_count": null,
      "outputs": [
        {
          "output_type": "display_data",
          "data": {
            "text/plain": [
              "<Figure size 432x288 with 1 Axes>"
            ],
            "image/png": "[encoded data removed]"
          },
          "metadata": {
            "needs_background": "light"
          }
        }
      ]
    },
    {
      "cell_type": "code",
      "source": [
        "Q1 = df['BloodPressure'].quantile(.25)\n",
        "Q3 = df['BloodPressure'].quantile(.75)\n",
        "q1 = Q1-1.5*(Q3-Q1)\n",
        "q3 = Q3+1.5*(Q3-Q1)\n",
        "\n",
        "df = df[df['BloodPressure'].between(q1, q3)]\n",
        "\n",
        "boxplot = df.boxplot(column=['BloodPressure'])"
      ],
      "metadata": {
        "colab": {
          "base_uri": "https://localhost:8080/",
          "height": 265
        },
        "id": "naZdDRfHKYAO",
        "outputId": "2e357785-d597-406b-d250-571f20590454"
      },
      "execution_count": null,
      "outputs": [
        {
          "output_type": "display_data",
          "data": {
            "text/plain": [
              "<Figure size 432x288 with 1 Axes>"
            ],
            "image/png": "[encoded data removed]"
          },
          "metadata": {
            "needs_background": "light"
          }
        }
      ]
    },
    {
      "cell_type": "code",
      "source": [
        "# Identifying outliers with the 1.5xIQR rule\n",
        "Q1 = df['SkinThickness'].quantile(.25)\n",
        "Q3 = df['SkinThickness'].quantile(.75)\n",
        "q1 = Q1-1.5*(Q3-Q1)\n",
        "q3 = Q3+1.5*(Q3-Q1)\n",
        "\n",
        "df = df[df['SkinThickness'].between(q1, q3)]\n",
        "\n",
        "boxplot = df.boxplot(column=['SkinThickness'])"
      ],
      "metadata": {
        "colab": {
          "base_uri": "https://localhost:8080/",
          "height": 265
        },
        "id": "bC7xPnYNKdUl",
        "outputId": "a8e496a5-1f96-4f23-a72c-51daea57740c"
      },
      "execution_count": null,
      "outputs": [
        {
          "output_type": "display_data",
          "data": {
            "text/plain": [
              "<Figure size 432x288 with 1 Axes>"
            ],
            "image/png": "[encoded data removed]"
          },
          "metadata": {
            "needs_background": "light"
          }
        }
      ]
    },
    {
      "cell_type": "code",
      "source": [
        "# Identifying outliers with the 1.5xIQR rule\n",
        "Q1 = df['Insulin'].quantile(.25)\n",
        "Q3 = df['Insulin'].quantile(.75)\n",
        "q1 = Q1-1.5*(Q3-Q1)\n",
        "q3 = Q3+1.5*(Q3-Q1)\n",
        "\n",
        "df = df[df['Insulin'].between(q1, q3)]\n",
        "\n",
        "boxplot = df.boxplot(column=['Insulin'])"
      ],
      "metadata": {
        "colab": {
          "base_uri": "https://localhost:8080/",
          "height": 265
        },
        "id": "GE7NnhhBKgGc",
        "outputId": "e845e585-e59e-4653-9680-e46b30c4450b"
      },
      "execution_count": null,
      "outputs": [
        {
          "output_type": "display_data",
          "data": {
            "text/plain": [
              "<Figure size 432x288 with 1 Axes>"
            ],
            "image/png": "[encoded data removed]"
          },
          "metadata": {
            "needs_background": "light"
          }
        }
      ]
    },
    {
      "cell_type": "code",
      "source": [
        "# Identifying outliers with the 1.5xIQR rule\n",
        "Q1 = df['BMI'].quantile(.25)\n",
        "Q3 = df['BMI'].quantile(.75)\n",
        "q1 = Q1-1.5*(Q3-Q1)\n",
        "q3 = Q3+1.5*(Q3-Q1)\n",
        "\n",
        "df = df[df['BMI'].between(q1, q3)]\n",
        "\n",
        "boxplot = df.boxplot(column=['BMI'])"
      ],
      "metadata": {
        "colab": {
          "base_uri": "https://localhost:8080/",
          "height": 265
        },
        "id": "nrk2ks53KiqB",
        "outputId": "ad577fa9-bdfe-4158-a9d4-e12a6dba71a4"
      },
      "execution_count": null,
      "outputs": [
        {
          "output_type": "display_data",
          "data": {
            "text/plain": [
              "<Figure size 432x288 with 1 Axes>"
            ],
            "image/png": "[encoded data removed]"
          },
          "metadata": {
            "needs_background": "light"
          }
        }
      ]
    },
    {
      "cell_type": "code",
      "source": [
        "# Identifying outliers with the 1.5xIQR rule\n",
        "Q1 = df['DiabetesPedigreeFunction'].quantile(.25)\n",
        "Q3 = df['DiabetesPedigreeFunction'].quantile(.75)\n",
        "q1 = Q1-1.5*(Q3-Q1)\n",
        "q3 = Q3+1.5*(Q3-Q1)\n",
        "\n",
        "df = df[df['DiabetesPedigreeFunction'].between(q1, q3)]\n",
        "\n",
        "boxplot = df.boxplot(column=['DiabetesPedigreeFunction'])"
      ],
      "metadata": {
        "colab": {
          "base_uri": "https://localhost:8080/",
          "height": 266
        },
        "id": "hrTFHZK3KmDl",
        "outputId": "f5af4c0c-ae13-42f8-ed61-02d571cc01ff"
      },
      "execution_count": null,
      "outputs": [
        {
          "output_type": "display_data",
          "data": {
            "text/plain": [
              "<Figure size 432x288 with 1 Axes>"
            ],
            "image/png": "[encoded data removed]"
          },
          "metadata": {
            "needs_background": "light"
          }
        }
      ]
    },
    {
      "cell_type": "code",
      "source": [
        "df.describe()"
      ],
      "metadata": {
        "colab": {
          "base_uri": "https://localhost:8080/",
          "height": 364
        },
        "id": "9aIaqaUyKo26",
        "outputId": "851014ab-a458-4ea5-e82a-341c7f03a140"
      },
      "execution_count": null,
      "outputs": [
        {
          "output_type": "execute_result",
          "data": {
            "text/plain": [
              "       Pregnancies     Glucose  BloodPressure  SkinThickness     Insulin  \\\n",
              "count   647.000000  647.000000     647.000000     647.000000  647.000000   \n",
              "mean      3.811437  119.208655      72.143740      20.471406   67.936631   \n",
              "std       3.246574   29.304287      11.306429      15.304202   83.324373   \n",
              "min       0.000000   44.000000      38.000000       0.000000    0.000000   \n",
              "25%       1.000000   99.000000      64.000000       0.000000    0.000000   \n",
              "50%       3.000000  114.000000      72.000000      23.000000   38.000000   \n",
              "75%       6.000000  137.000000      80.000000      32.000000  120.000000   \n",
              "max      13.000000  198.000000     106.000000      60.000000  330.000000   \n",
              "\n",
              "              BMI  DiabetesPedigreeFunction         Age     Outcome  \n",
              "count  647.000000                647.000000  647.000000  647.000000  \n",
              "mean    31.928594                  0.426577   33.165379    0.310665  \n",
              "std      6.368231                  0.244432   11.756778    0.463124  \n",
              "min     18.200000                  0.078000   21.000000    0.000000  \n",
              "25%     27.250000                  0.240000   24.000000    0.000000  \n",
              "50%     32.000000                  0.361000   29.000000    0.000000  \n",
              "75%     35.900000                  0.583000   40.500000    1.000000  \n",
              "max     49.600000                  1.162000   81.000000    1.000000  "
            ],
            "text/html": [
              "\n",
              "  <div id=\"df-84902567-6f29-4329-91d3-c843b3808e9d\">\n",
              "    <div class=\"colab-df-container\">\n",
              "      <div>\n",
              "<style scoped>\n",
              "    .dataframe tbody tr th:only-of-type {\n",
              "        vertical-align: middle;\n",
              "    }\n",
              "\n",
              "    .dataframe tbody tr th {\n",
              "        vertical-align: top;\n",
              "    }\n",
              "\n",
              "    .dataframe thead th {\n",
              "        text-align: right;\n",
              "    }\n",
              "</style>\n",
              "<table border=\"1\" class=\"dataframe\">\n",
              "  <thead>\n",
              "    <tr style=\"text-align: right;\">\n",
              "      <th></th>\n",
              "      <th>Pregnancies</th>\n",
              "      <th>Glucose</th>\n",
              "      <th>BloodPressure</th>\n",
              "      <th>SkinThickness</th>\n",
              "      <th>Insulin</th>\n",
              "      <th>BMI</th>\n",
              "      <th>DiabetesPedigreeFunction</th>\n",
              "      <th>Age</th>\n",
              "      <th>Outcome</th>\n",
              "    </tr>\n",
              "  </thead>\n",
              "  <tbody>\n",
              "    <tr>\n",
              "      <th>count</th>\n",
              "      <td>647.000000</td>\n",
              "      <td>647.000000</td>\n",
              "      <td>647.000000</td>\n",
              "      <td>647.000000</td>\n",
              "      <td>647.000000</td>\n",
              "      <td>647.000000</td>\n",
              "      <td>647.000000</td>\n",
              "      <td>647.000000</td>\n",
              "      <td>647.000000</td>\n",
              "    </tr>\n",
              "    <tr>\n",
              "      <th>mean</th>\n",
              "      <td>3.811437</td>\n",
              "      <td>119.208655</td>\n",
              "      <td>72.143740</td>\n",
              "      <td>20.471406</td>\n",
              "      <td>67.936631</td>\n",
              "      <td>31.928594</td>\n",
              "      <td>0.426577</td>\n",
              "      <td>33.165379</td>\n",
              "      <td>0.310665</td>\n",
              "    </tr>\n",
              "    <tr>\n",
              "      <th>std</th>\n",
              "      <td>3.246574</td>\n",
              "      <td>29.304287</td>\n",
              "      <td>11.306429</td>\n",
              "      <td>15.304202</td>\n",
              "      <td>83.324373</td>\n",
              "      <td>6.368231</td>\n",
              "      <td>0.244432</td>\n",
              "      <td>11.756778</td>\n",
              "      <td>0.463124</td>\n",
              "    </tr>\n",
              "    <tr>\n",
              "      <th>min</th>\n",
              "      <td>0.000000</td>\n",
              "      <td>44.000000</td>\n",
              "      <td>38.000000</td>\n",
              "      <td>0.000000</td>\n",
              "      <td>0.000000</td>\n",
              "      <td>18.200000</td>\n",
              "      <td>0.078000</td>\n",
              "      <td>21.000000</td>\n",
              "      <td>0.000000</td>\n",
              "    </tr>\n",
              "    <tr>\n",
              "      <th>25%</th>\n",
              "      <td>1.000000</td>\n",
              "      <td>99.000000</td>\n",
              "      <td>64.000000</td>\n",
              "      <td>0.000000</td>\n",
              "      <td>0.000000</td>\n",
              "      <td>27.250000</td>\n",
              "      <td>0.240000</td>\n",
              "      <td>24.000000</td>\n",
              "      <td>0.000000</td>\n",
              "    </tr>\n",
              "    <tr>\n",
              "      <th>50%</th>\n",
              "      <td>3.000000</td>\n",
              "      <td>114.000000</td>\n",
              "      <td>72.000000</td>\n",
              "      <td>23.000000</td>\n",
              "      <td>38.000000</td>\n",
              "      <td>32.000000</td>\n",
              "      <td>0.361000</td>\n",
              "      <td>29.000000</td>\n",
              "      <td>0.000000</td>\n",
              "    </tr>\n",
              "    <tr>\n",
              "      <th>75%</th>\n",
              "      <td>6.000000</td>\n",
              "      <td>137.000000</td>\n",
              "      <td>80.000000</td>\n",
              "      <td>32.000000</td>\n",
              "      <td>120.000000</td>\n",
              "      <td>35.900000</td>\n",
              "      <td>0.583000</td>\n",
              "      <td>40.500000</td>\n",
              "      <td>1.000000</td>\n",
              "    </tr>\n",
              "    <tr>\n",
              "      <th>max</th>\n",
              "      <td>13.000000</td>\n",
              "      <td>198.000000</td>\n",
              "      <td>106.000000</td>\n",
              "      <td>60.000000</td>\n",
              "      <td>330.000000</td>\n",
              "      <td>49.600000</td>\n",
              "      <td>1.162000</td>\n",
              "      <td>81.000000</td>\n",
              "      <td>1.000000</td>\n",
              "    </tr>\n",
              "  </tbody>\n",
              "</table>\n",
              "</div>\n",
              "      <button class=\"colab-df-convert\" onclick=\"convertToInteractive('df-84902567-6f29-4329-91d3-c843b3808e9d')\"\n",
              "              title=\"Convert this dataframe to an interactive table.\"\n",
              "              style=\"display:none;\">\n",
              "        \n",
              "  <svg xmlns=\"http://www.w3.org/2000/svg\" height=\"24px\"viewBox=\"0 0 24 24\"\n",
              "       width=\"24px\">\n",
              "    <path d=\"M0 0h24v24H0V0z\" fill=\"none\"/>\n",
              "    <path d=\"M18.56 5.44l.94 2.06.94-2.06 2.06-.94-2.06-.94-.94-2.06-.94 2.06-2.06.94zm-11 1L8.5 8.5l.94-2.06 2.06-.94-2.06-.94L8.5 2.5l-.94 2.06-2.06.94zm10 10l.94 2.06.94-2.06 2.06-.94-2.06-.94-.94-2.06-.94 2.06-2.06.94z\"/><path d=\"M17.41 7.96l-1.37-1.37c-.4-.4-.92-.59-1.43-.59-.52 0-1.04.2-1.43.59L10.3 9.45l-7.72 7.72c-.78.78-.78 2.05 0 2.83L4 21.41c.39.39.9.59 1.41.59.51 0 1.02-.2 1.41-.59l7.78-7.78 2.81-2.81c.8-.78.8-2.07 0-2.86zM5.41 20L4 18.59l7.72-7.72 1.47 1.35L5.41 20z\"/>\n",
              "  </svg>\n",
              "      </button>\n",
              "      \n",
              "  <style>\n",
              "    .colab-df-container {\n",
              "      display:flex;\n",
              "      flex-wrap:wrap;\n",
              "      gap: 12px;\n",
              "    }\n",
              "\n",
              "    .colab-df-convert {\n",
              "      background-color: #E8F0FE;\n",
              "      border: none;\n",
              "      border-radius: 50%;\n",
              "      cursor: pointer;\n",
              "      display: none;\n",
              "      fill: #1967D2;\n",
              "      height: 32px;\n",
              "      padding: 0 0 0 0;\n",
              "      width: 32px;\n",
              "    }\n",
              "\n",
              "    .colab-df-convert:hover {\n",
              "      background-color: #E2EBFA;\n",
              "      box-shadow: 0px 1px 2px rgba(60, 64, 67, 0.3), 0px 1px 3px 1px rgba(60, 64, 67, 0.15);\n",
              "      fill: #174EA6;\n",
              "    }\n",
              "\n",
              "    [theme=dark] .colab-df-convert {\n",
              "      background-color: #3B4455;\n",
              "      fill: #D2E3FC;\n",
              "    }\n",
              "\n",
              "    [theme=dark] .colab-df-convert:hover {\n",
              "      background-color: #434B5C;\n",
              "      box-shadow: 0px 1px 3px 1px rgba(0, 0, 0, 0.15);\n",
              "      filter: drop-shadow(0px 1px 2px rgba(0, 0, 0, 0.3));\n",
              "      fill: #FFFFFF;\n",
              "    }\n",
              "  </style>\n",
              "\n",
              "      <script>\n",
              "        const buttonEl =\n",
              "          document.querySelector('#df-84902567-6f29-4329-91d3-c843b3808e9d button.colab-df-convert');\n",
              "        buttonEl.style.display =\n",
              "          google.colab.kernel.accessAllowed ? 'block' : 'none';\n",
              "\n",
              "        async function convertToInteractive(key) {\n",
              "          const element = document.querySelector('#df-84902567-6f29-4329-91d3-c843b3808e9d');\n",
              "          const dataTable =\n",
              "            await google.colab.kernel.invokeFunction('convertToInteractive',\n",
              "                                                     [key], {});\n",
              "          if (!dataTable) return;\n",
              "\n",
              "          const docLinkHtml = 'Like what you see? Visit the ' +\n",
              "            '<a target=\"_blank\" href=https://colab.research.google.com/notebooks/data_table.ipynb>data table notebook</a>'\n",
              "            + ' to learn more about interactive tables.';\n",
              "          element.innerHTML = '';\n",
              "          dataTable['output_type'] = 'display_data';\n",
              "          await google.colab.output.renderOutput(dataTable, element);\n",
              "          const docLink = document.createElement('div');\n",
              "          docLink.innerHTML = docLinkHtml;\n",
              "          element.appendChild(docLink);\n",
              "        }\n",
              "      </script>\n",
              "    </div>\n",
              "  </div>\n",
              "  "
            ]
          },
          "metadata": {},
          "execution_count": 10
        }
      ]
    },
    {
      "cell_type": "code",
      "source": [
        "dataset = df.copy(deep = True)\n",
        "dataset[['Glucose','BloodPressure','SkinThickness','Insulin','BMI']] = dataset[['Glucose','BloodPressure','SkinThickness','Insulin','BMI']].replace(0,np.NaN)\n",
        "\n",
        "## showing the count of Nans\n",
        "print(dataset.isnull().sum())"
      ],
      "metadata": {
        "colab": {
          "base_uri": "https://localhost:8080/"
        },
        "id": "t1cDydBkKrvl",
        "outputId": "0cdd9823-9db0-4f32-ddcf-f1762e027e7a"
      },
      "execution_count": null,
      "outputs": [
        {
          "output_type": "stream",
          "name": "stdout",
          "text": [
            "Pregnancies                   0\n",
            "Glucose                       0\n",
            "BloodPressure                 0\n",
            "SkinThickness               182\n",
            "Insulin                     310\n",
            "BMI                           0\n",
            "DiabetesPedigreeFunction      0\n",
            "Age                           0\n",
            "Outcome                       0\n",
            "dtype: int64\n"
          ]
        }
      ]
    },
    {
      "cell_type": "code",
      "source": [
        "dataset['SkinThickness'].fillna(dataset['SkinThickness'].mean(), inplace = True)\n",
        "dataset['Insulin'].fillna(dataset['Insulin'].mean(), inplace = True)\n",
        "\n",
        "# showing the count of Nans\n",
        "print(dataset.isnull().sum())"
      ],
      "metadata": {
        "colab": {
          "base_uri": "https://localhost:8080/"
        },
        "id": "7UOfCVXTKvI_",
        "outputId": "cc7472fd-2ac8-4d28-ce7e-52c602046393"
      },
      "execution_count": null,
      "outputs": [
        {
          "output_type": "stream",
          "name": "stdout",
          "text": [
            "Pregnancies                 0\n",
            "Glucose                     0\n",
            "BloodPressure               0\n",
            "SkinThickness               0\n",
            "Insulin                     0\n",
            "BMI                         0\n",
            "DiabetesPedigreeFunction    0\n",
            "Age                         0\n",
            "Outcome                     0\n",
            "dtype: int64\n"
          ]
        }
      ]
    },
    {
      "cell_type": "code",
      "source": [
        "x = dataset\n",
        "y = dataset.Outcome"
      ],
      "metadata": {
        "id": "3A0vUBbRLNc-"
      },
      "execution_count": null,
      "outputs": []
    },
    {
      "cell_type": "code",
      "source": [
        "from sklearn.preprocessing import StandardScaler\n",
        "sc = StandardScaler()\n",
        "x =sc.fit_transform(x)#only rearangeng x\n",
        "\n",
        "\n",
        "from sklearn.decomposition import PCA\n",
        "pca = PCA()\n",
        "x = pca.fit_transform(x)"
      ],
      "metadata": {
        "id": "8t8zU2MmK0ZE"
      },
      "execution_count": null,
      "outputs": []
    },
    {
      "cell_type": "code",
      "source": [
        "#perform training and test split\n",
        "from sklearn.model_selection import train_test_split\n",
        "X_train, X_test, y_train, y_test = train_test_split(x, y,test_size=0.2, stratify=y)"
      ],
      "metadata": {
        "id": "OA5uXISRLyJa"
      },
      "execution_count": null,
      "outputs": []
    },
    {
      "cell_type": "code",
      "source": [
        "#Grid Search\n",
        "from sklearn.model_selection import GridSearchCV\n",
        "from sklearn.neighbors import KNeighborsClassifier\n",
        "from sklearn.metrics import accuracy_score, plot_confusion_matrix\n",
        "\n",
        "knn = KNeighborsClassifier()\n",
        "from sklearn.model_selection import GridSearchCV\n",
        "k_range = list(range(1, 31))\n",
        "param_grid = dict(n_neighbors=k_range)\n",
        "  \n",
        "# defining parameter range\n",
        "knn_grid = GridSearchCV(knn, param_grid, cv=10, scoring='accuracy', return_train_score=False,verbose=1)\n",
        "  \n",
        "# fitting the model for grid search\n",
        "grid_search=knn_grid.fit(X_train, y_train)\n",
        "print(grid_search.best_params_)\n"
      ],
      "metadata": {
        "colab": {
          "base_uri": "https://localhost:8080/"
        },
        "id": "y-MzIhzkLKea",
        "outputId": "83cf3afb-f29b-4218-c604-9f09f831a1d6"
      },
      "execution_count": 28,
      "outputs": [
        {
          "output_type": "stream",
          "name": "stdout",
          "text": [
            "Fitting 10 folds for each of 30 candidates, totalling 300 fits\n",
            "{'n_neighbors': 5}\n"
          ]
        }
      ]
    },
    {
      "cell_type": "code",
      "source": [
        "knn = KNeighborsClassifier(n_neighbors=2)\n",
        "\n",
        "knn.fit(X_train, y_train)\n",
        "\n",
        "#save best model\n",
        "knn_best = knn_grid.best_estimator_\n",
        "print('model saved')"
      ],
      "metadata": {
        "colab": {
          "base_uri": "https://localhost:8080/"
        },
        "id": "2J2MYqygMdn_",
        "outputId": "b6542a60-7d71-4ebe-fc78-7137ec69022f"
      },
      "execution_count": 29,
      "outputs": [
        {
          "output_type": "stream",
          "name": "stdout",
          "text": [
            "model saved\n"
          ]
        }
      ]
    },
    {
      "cell_type": "code",
      "source": [
        "from sklearn.ensemble import RandomForestClassifier\n",
        "rfc=RandomForestClassifier(random_state=42)\n",
        "\n",
        "param_grid = { \n",
        "    'n_estimators': [200, 500],\n",
        "    'max_features': ['auto', 'sqrt', 'log2'],\n",
        "    'max_depth' : [4,5,6,7,8],\n",
        "    'criterion' :['gini', 'entropy']\n",
        "}\n",
        "\n",
        "\n",
        "CV_rfc = GridSearchCV(estimator=rfc, param_grid=param_grid, cv= 5)\n",
        "CV_rfc.fit(X_train, y_train)\n",
        "\n",
        "print(CV_rfc.best_params_)"
      ],
      "metadata": {
        "id": "4KRumcApNIwB",
        "colab": {
          "base_uri": "https://localhost:8080/"
        },
        "outputId": "732e41fd-4da0-424b-b8f3-3aa8bc08c317"
      },
      "execution_count": 26,
      "outputs": [
        {
          "output_type": "stream",
          "name": "stdout",
          "text": [
            "{'criterion': 'gini', 'max_depth': 7, 'max_features': 'auto', 'n_estimators': 200}\n"
          ]
        }
      ]
    },
    {
      "cell_type": "code",
      "source": [
        "rfc1=RandomForestClassifier(max_features='auto', n_estimators= 200, max_depth=7, criterion='gini')\n",
        "rfc1.fit(X_train, y_train)\n",
        "\n",
        "#save best model\n",
        "rf_best = CV_rfc.best_estimator_\n",
        "print('model saved')"
      ],
      "metadata": {
        "colab": {
          "base_uri": "https://localhost:8080/"
        },
        "id": "KQADMSwpPvd7",
        "outputId": "73f57d16-74c0-4013-9014-2097d7350e84"
      },
      "execution_count": 27,
      "outputs": [
        {
          "output_type": "stream",
          "name": "stdout",
          "text": [
            "model saved\n"
          ]
        }
      ]
    },
    {
      "cell_type": "code",
      "source": [
        "from xgboost import XGBClassifier \n",
        "from sklearn.pipeline import Pipeline\n",
        "from sklearn.preprocessing import StandardScaler\n",
        "from sklearn.decomposition import PCA\n",
        "\n",
        "\n",
        "estimator = XGBClassifier(\n",
        "    objective= 'binary:logistic',\n",
        "    nthread=4,\n",
        "    seed=42\n",
        ")\n",
        "\n",
        "parameters = {\n",
        "    'max_depth': range (2, 10, 1),\n",
        "    'n_estimators': range(60, 220, 40),\n",
        "    'learning_rate': [0.1, 0.01, 0.05]\n",
        "}\n",
        "\n",
        "grid_search_XB = GridSearchCV(\n",
        "    estimator=estimator,\n",
        "    param_grid=parameters,\n",
        "    scoring = 'roc_auc',\n",
        "    n_jobs = 10,\n",
        "    cv = 10,\n",
        "    verbose=True\n",
        ")\n",
        "grid_search_XB.fit(X_train, y_train)\n",
        "\n",
        "print(grid_search_XB.best_estimator_)"
      ],
      "metadata": {
        "colab": {
          "base_uri": "https://localhost:8080/"
        },
        "id": "ubXEp07xReWs",
        "outputId": "fe9f6013-423c-4448-a6da-54d251d263a3"
      },
      "execution_count": 30,
      "outputs": [
        {
          "output_type": "stream",
          "name": "stdout",
          "text": [
            "Fitting 10 folds for each of 96 candidates, totalling 960 fits\n",
            "XGBClassifier(max_depth=2, n_estimators=140, nthread=4, seed=42)\n"
          ]
        }
      ]
    },
    {
      "cell_type": "code",
      "source": [
        "xb = XGBClassifier(max_depth=2, n_estimators=140, nthread=4, seed=42)\n",
        "xb.fit(X_train, y_train)\n",
        "\n",
        "#save best model\n",
        "xb_best = grid_search_XB.best_estimator_\n",
        "print('model saved')"
      ],
      "metadata": {
        "colab": {
          "base_uri": "https://localhost:8080/"
        },
        "id": "nGJOcyWRR_Bi",
        "outputId": "c147a0cb-7fcb-4c8c-80e4-8fa08cd4a5ab"
      },
      "execution_count": 31,
      "outputs": [
        {
          "output_type": "stream",
          "name": "stdout",
          "text": [
            "model saved\n"
          ]
        }
      ]
    },
    {
      "cell_type": "code",
      "source": [
        "#test the three models with the test data and print their accuracy scores\n",
        "print('knn: {}:'.format(knn_best.score(X_test, y_test)))\n",
        "print('rf: {}:'.format(rf_best.score(X_test, y_test)))\n",
        "print('XGBClassifier: {}'.format(xb_best.score(X_test, y_test)))"
      ],
      "metadata": {
        "colab": {
          "base_uri": "https://localhost:8080/"
        },
        "id": "nq2Ki7MqS1Tz",
        "outputId": "68b1b862-2d84-4cc2-a488-fa2e5b9c0fde"
      },
      "execution_count": 32,
      "outputs": [
        {
          "output_type": "stream",
          "name": "stdout",
          "text": [
            "knn: 0.9923076923076923:\n",
            "rf: 0.9923076923076923:\n",
            "XGBClassifier: 0.9923076923076923\n"
          ]
        }
      ]
    },
    {
      "cell_type": "code",
      "source": [
        "from sklearn.ensemble import VotingClassifier\n",
        "#create a dictionary of our models\n",
        "estimators=[('knn', knn_best), ('rf', rf_best), ('XGBClassifier', xb_best)]\n",
        "#create our voting classifier, inputting our models\n",
        "ensemble = VotingClassifier(estimators, voting='hard')\n",
        "\n",
        "#fit model to training data\n",
        "ensemble.fit(X_train, y_train)\n",
        "#test our model on the test data\n",
        "ensemble.score(X_test, y_test)"
      ],
      "metadata": {
        "colab": {
          "base_uri": "https://localhost:8080/"
        },
        "id": "u_2bSHdMTZuF",
        "outputId": "b5267e29-1a5b-4445-a8bd-18b9960de0c5"
      },
      "execution_count": 33,
      "outputs": [
        {
          "output_type": "execute_result",
          "data": {
            "text/plain": [
              "0.9923076923076923"
            ]
          },
          "metadata": {},
          "execution_count": 33
        }
      ]
    }
  ]
}